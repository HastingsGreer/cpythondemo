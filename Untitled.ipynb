{
 "cells": [
  {
   "cell_type": "code",
   "execution_count": 1,
   "metadata": {
    "collapsed": true
   },
   "outputs": [],
   "source": [
    "import numpy as np\n",
    "import matplotlib.pyplot as plt\n",
    "import spam\n",
    "import mpmath\n",
    "mpmath.dps = 40\n",
    "minx, miny, maxx, maxy = map(mpmath.mpf, (-2, -2, 2, 2))\n",
    "mpmath.mp.prec = 290"
   ]
  },
  {
   "cell_type": "code",
   "execution_count": 2,
   "metadata": {
    "collapsed": true
   },
   "outputs": [],
   "source": [
    "\n",
    "\n",
    "it = 8000\n",
    "import spam\n",
    "import cv2\n",
    "import numpy as np\n",
    "import random\n",
    "\n",
    "def p_mandel(minx, miny, maxx, maxy, it):\n",
    "    \n",
    "\n",
    "    #minx, miny, maxx, maxy = (-0.8447610481188477, -0.13546062282738092, -0.844761048118734, -0.13546062282726723)\n",
    "\n",
    "\n",
    "\n",
    "\n",
    "    bestdepth = 0\n",
    "    \n",
    "    bestz = []\n",
    "    for __ in range(7):\n",
    "        print(\".\", end=\"\")\n",
    "        if __ == 0:\n",
    "            c1 =.5\n",
    "            c2 = .5\n",
    "        else:\n",
    "            c1 = random.random()\n",
    "            c2 = random.random()\n",
    "        centerx, centery = (c1 * maxx + (1 - c1) * minx), (c2 * maxy + (1 - c2) * miny)\n",
    "\n",
    "        z_real_array = [0]\n",
    "        z_imag_array = [0]\n",
    "        z_real = 0\n",
    "        z_complex = 0\n",
    "        i = 0\n",
    "        while i < it and z_real**2 + z_complex**2 < it:\n",
    "            z_real, z_complex = z_real**2 - z_complex**2 + centery, 2 * z_real * z_complex + centerx\n",
    "            z_real_array.append(float(z_real))\n",
    "            z_imag_array.append(float(z_complex))\n",
    "            i += 1\n",
    "        if i > bestdepth:\n",
    "            bestdepth = i\n",
    "            bestz = z_real_array, z_imag_array\n",
    "            bestcx, bestcy = centerx, centery\n",
    "        if i == it:\n",
    "            break\n",
    "    print(\"found c\")\n",
    "    import sys\n",
    "    sys.stdout.flush()\n",
    "    print(\"span\", bestcy, maxy - bestcy)\n",
    "    x, y = np.mgrid[float(miny - bestcy):float(maxy - bestcy):512j, float(minx-bestcx):float(maxx-bestcx):512j]\n",
    "    print(\"Step\", x[0, 0] - x[1, 1])\n",
    "    print(x.dtype)\n",
    "    z = y.astype(np.int32) * 0\n",
    "    ref_real_array = np.array(bestz[0])\n",
    "    ref_imag_array = np.array(bestz[1])\n",
    "    \n",
    "    print(repr((minx, miny, maxx, maxy)))\n",
    "\n",
    "    spam.perturb_mandel(ref_real_array, ref_imag_array, x, y, z, it)\n",
    "    return z\n"
   ]
  },
  {
   "cell_type": "code",
   "execution_count": null,
   "metadata": {
    "collapsed": true,
    "scrolled": false
   },
   "outputs": [],
   "source": [
    "import spam\n",
    "import cv2\n",
    "import numpy as np\n",
    "\n",
    "\n",
    "\n",
    "\n",
    "\n",
    "def left(a, b):\n",
    "    return a, (a + b) / 2\n",
    "def right(a, b):\n",
    "    return (a + b) / 2, b\n",
    "def middle(a, b):\n",
    "    return 3 * a / 4 + b / 4, a / 4 + 3 * b / 4\n",
    "\n",
    "while True:\n",
    "    #x, y = np.mgrid[miny:maxy:500j, minx:maxx:500j]\n",
    "    #z = y * 0\n",
    "    print(repr((minx, miny, maxx, maxy)))\n",
    "    #spam.numpyex(x, y, z, it)\n",
    "    #cv2.imshow(\"h\", ((z % 256)).astype(np.uint8))\n",
    "    n = 200\n",
    "    counts = (p_mandel(minx, miny, maxx, maxy, it))\n",
    "    counts = np.expand_dims(counts, -1)\n",
    "    cv2.imshow(\"pert\", np.concatenate([\n",
    "        ((counts % n) / n * 256),\n",
    "        ((counts % 2000) / 2000 * 256),\n",
    "        ((counts % 700) / 700 * 256)\n",
    "    ], -1).astype(np.uint8))\n",
    "    k = cv2.waitKey(90000)\n",
    "    k = chr(k) if k != -1 else \"none\"\n",
    "    print(k)\n",
    "    if k == '2':\n",
    "        it *= 2\n",
    "    if k == '1':\n",
    "        it //= 2\n",
    "    if k == \"o\":\n",
    "        break\n",
    "    if k == 'q':\n",
    "        minx, maxx = left(minx, maxx)\n",
    "        miny, maxy = left(miny, maxy)\n",
    "    if k == \"e\":\n",
    "        minx, maxx = right(minx, maxx)\n",
    "        miny, maxy = left(miny, maxy)\n",
    "    if k == \"z\":\n",
    "        minx, maxx = left(minx, maxx)\n",
    "        miny, maxy = right(miny, maxy)\n",
    "    if k == \"c\":\n",
    "        minx, maxx = right(minx, maxx)\n",
    "        miny, maxy = right(miny, maxy)\n",
    "    if k == \"s\":\n",
    "        minx, maxx = middle(minx, maxx)\n",
    "        miny, maxy = middle(miny, maxy)\n",
    "\n",
    "    if k == \"w\":\n",
    "        minx, maxx = middle(minx, maxx)\n",
    "        miny, maxy = left(miny, maxy)\n",
    "    if k == \"x\":\n",
    "        minx, maxx = middle(minx, maxx)\n",
    "        miny, maxy = right(miny, maxy)\n",
    "    if k == \"d\":\n",
    "        minx, maxx = right(minx, maxx)\n",
    "        miny, maxy = middle(miny, maxy)\n",
    "    if k == \"a\":\n",
    "        minx, maxx = left(minx, maxx)\n",
    "        miny, maxy = middle(miny, maxy)\n",
    "    if k == \"p\":\n",
    "        d = (maxx - minx) / 2\n",
    "        minx, maxx = minx - d, maxx + d\n",
    "        d = (maxy - miny) / 2\n",
    "        miny, maxy = miny - d, maxy + d\n"
   ]
  },
  {
   "cell_type": "markdown",
   "metadata": {},
   "source": [
    "import math"
   ]
  },
  {
   "cell_type": "code",
   "execution_count": 3,
   "metadata": {
    "collapsed": true
   },
   "outputs": [],
   "source": [
    "mpmath.mp.prec = 100"
   ]
  },
  {
   "cell_type": "code",
   "execution_count": 4,
   "metadata": {},
   "outputs": [
    {
     "data": {
      "text/plain": [
       "8000"
      ]
     },
     "execution_count": 4,
     "metadata": {},
     "output_type": "execute_result"
    }
   ],
   "source": [
    "it"
   ]
  },
  {
   "cell_type": "code",
   "execution_count": 5,
   "metadata": {},
   "outputs": [
    {
     "ename": "SyntaxError",
     "evalue": "can't assign to operator (<ipython-input-5-977aa80b5afd>, line 3)",
     "output_type": "error",
     "traceback": [
      "\u001b[1;36m  File \u001b[1;32m\"<ipython-input-5-977aa80b5afd>\"\u001b[1;36m, line \u001b[1;32m3\u001b[0m\n\u001b[1;33m    z1 + d1 = (z + d)^2 + c + dc\u001b[0m\n\u001b[1;37m                                ^\u001b[0m\n\u001b[1;31mSyntaxError\u001b[0m\u001b[1;31m:\u001b[0m can't assign to operator\n"
     ]
    }
   ],
   "source": [
    "z1 = z^2 + c\n",
    "\n",
    "z1 + d1 = (z + d)^2 + c + dc\n",
    "d1 = z^2 + 2 * z * d + d^2 + c + dc - z1\n",
    "d1 = 2 * z * d + d^2 + dc\n",
    "\n",
    "d1_real = 2 * z_real * d_real - 2 * z_imag * d_imag + d_real * d_real - d_imag * d_imag + dc_real\n",
    "\n",
    "d1_imag = 2 * z_real * d_imag + 2 * z_imag * d_real + 2 * d_real * d_imag + dc_imag\n",
    "\n"
   ]
  },
  {
   "cell_type": "code",
   "execution_count": 6,
   "metadata": {},
   "outputs": [
    {
     "name": "stdout",
     "output_type": "stream",
     "text": [
      "18\n",
      "82\n",
      "89\n",
      "18\n",
      "82\n",
      "89\n",
      "18\n",
      "82\n",
      "89\n",
      "8\n",
      "10\n",
      "20\n",
      "21\n",
      "19\n",
      "9\n",
      "[9, 9, 1, 0, 0, 8]\n"
     ]
    }
   ],
   "source": [
    "x = [9, 9, 9]\n",
    "y = [9, 9, 2]\n",
    "\n",
    "z = [0, 0, 0, 0, 0, 0]\n",
    "temp = [[0 for el in z] for el in x]\n",
    "\n",
    "def mul(a, b, out):\n",
    "    for i in range(len(out)):\n",
    "        out[i] = 0\n",
    "    for i in range(len(a)):\n",
    "        carry = 0\n",
    "        for j in range(len(b) - 1, -1, -1):\n",
    "            x = a[i] * b[j] + carry\n",
    "            print(x)\n",
    "            temp[i][i + j + 1] = x % 10\n",
    "            carry = x // 10\n",
    "        temp[i][i] = carry\n",
    "    carry = 0\n",
    "    for j in range(len(out) - 1, -1, -1):\n",
    "        \n",
    "        for i in range(len(a)):\n",
    "            carry += temp[i][j]\n",
    "        print(carry)\n",
    "        out[j] = carry % 10\n",
    "        carry = carry // 10\n",
    "            \n",
    "    \n",
    "    print(out)\n",
    "    \n",
    "mul(x, y, z)"
   ]
  },
  {
   "cell_type": "code",
   "execution_count": 3,
   "metadata": {
    "collapsed": true
   },
   "outputs": [],
   "source": [
    "import matplotlib\n",
    "\n",
    "%matplotlib tk\n",
    "\n",
    "\n",
    "\n",
    "\n",
    "\n",
    "import numpy as np\n",
    "import matplotlib.pyplot as plt\n",
    "import itertools\n",
    "\n",
    "class Settings:\n",
    "    def __init__(self, depth, scale, dim, center):\n",
    "        self.depth = depth\n",
    "        self.scale = scale\n",
    "        self.dim = dim\n",
    "        self.center = center\n",
    "        \n",
    "    def changemethod(self):\n",
    "        self.method = self.methods.next()\n",
    "\n",
    "def main():\n",
    "    #initial settings\n",
    "    xmin = mpmath.mpf(-2)\n",
    "    xmax = mpmath.mpf(2)\n",
    "    ymin = mpmath.mpf(-2)\n",
    "    ymax = mpmath.mpf(2)\n",
    "     \n",
    "    depth = mpmath.mpf(60)   \n",
    "    scale = mpmath.mpf(2)\n",
    "    dim = 600\n",
    "    settings = Settings(depth, scale, dim, (0, 0))  \n",
    "                                            # the settings object is used to keep track of\n",
    "                                            # rendering settings as the click-generated \n",
    "                                            # callbacks change the view window\n",
    "        \n",
    "    counts = p_mandel(xmin, ymin, xmax, ymax, settings.depth)\n",
    "    fig = plt.figure()\n",
    "    ax = fig.add_subplot(111)\n",
    "    picture = ax.imshow(counts, extent = [-1, 1, -1, 1], interpolation = 'nearest')\n",
    "    colorbar = fig.colorbar(picture, ax = ax)\n",
    "    cid = fig.canvas.mpl_connect('button_press_event', lambda e: onclick(e, ax, colorbar, settings))\n",
    "    cid = fig.canvas.mpl_connect('key_press_event', lambda e: onkey(e, ax, colorbar, settings))\n",
    "    plt.show()\n",
    "    \n",
    "    \n",
    "def onclick(event, ax, colorbar, settings):\n",
    "                     #zoom in by a factor of two with every click\n",
    "    settings.center = (event.xdata * settings.scale + settings.center[0], -event.ydata * settings.scale + settings.center[1])\n",
    "    settings.scale *= .1 \n",
    "    render(ax, colorbar, settings)\n",
    "    \n",
    "    \n",
    "def onkey(event, ax, colorbar, settings):\n",
    "    key = event.key\n",
    "    \n",
    "    if key == \"1\":\n",
    "        settings.depth = int(settings.depth * 2)\n",
    "    elif key == \"2\":\n",
    "        settings.depth = int(settings.depth / 2)\n",
    "    elif key == \"e\":\n",
    "        settings.dim = int(settings.dim * 2)\n",
    "    elif key == \"d\":\n",
    "        settings.dim = int(settings.dim / 2)\n",
    "    elif key == \"w\":\n",
    "        settings.scale = settings.scale * 2\n",
    "    elif key == \"r\":\n",
    "        settings.changemethod()\n",
    "        print(settings.method)\n",
    "    else:\n",
    "        return\n",
    "    render(ax, colorbar, settings)\n",
    "\n",
    "def render(ax, colorbar, settings):\n",
    "    print(str(settings.dim), str(settings.depth))\n",
    "    ax.clear()\n",
    "    xmin = settings.center[0] - settings.scale\n",
    "    xmax = settings.center[0] + settings.scale\n",
    "    ymin = settings.center[1] - settings.scale\n",
    "    ymax = settings.center[1] + settings.scale\n",
    "    counts = p_mandel(xmin, ymin, xmax, ymax, settings.depth)\n",
    "    \n",
    "    cax = ax.imshow(counts, extent = [-1, 1, -1, 1])\n",
    "    colorbar.on_mappable_changed(cax)\n",
    "    ax.figure.canvas.draw()\n",
    "    \n"
   ]
  },
  {
   "cell_type": "code",
   "execution_count": null,
   "metadata": {},
   "outputs": [
    {
     "name": "stdout",
     "output_type": "stream",
     "text": [
      ".found c\n"
     ]
    }
   ],
   "source": [
    "main()"
   ]
  },
  {
   "cell_type": "code",
   "execution_count": 29,
   "metadata": {},
   "outputs": [
    {
     "data": {
      "text/plain": [
       "dtype('float64')"
      ]
     },
     "execution_count": 29,
     "metadata": {},
     "output_type": "execute_result"
    }
   ],
   "source": [
    "np.mgrid[1:-1:10j, 1:-1:10j].dtype"
   ]
  },
  {
   "cell_type": "code",
   "execution_count": 110,
   "metadata": {},
   "outputs": [
    {
     "name": "stdout",
     "output_type": "stream",
     "text": [
      "\n"
     ]
    },
    {
     "data": {
      "text/plain": [
       "-8.000000025368614e-31"
      ]
     },
     "execution_count": 110,
     "metadata": {},
     "output_type": "execute_result"
    }
   ],
   "source": [
    "[mpmath.mpf('-1.0307906445867305623428102917156124791067') - mpmath.mpf('-1.0307906445867305623428102913156124791078')) / 500"
   ]
  },
  {
   "cell_type": "code",
   "execution_count": 117,
   "metadata": {},
   "outputs": [
    {
     "data": {
      "text/plain": [
       "array(-8.08e-42, dtype=float32)"
      ]
     },
     "execution_count": 117,
     "metadata": {},
     "output_type": "execute_result"
    }
   ],
   "source": [
    "np.array((mpmath.mpf('-0.15433226325480220171783119597263062593687')- mpmath.mpf('-0.15433226325480220171783119597263062593283')) / 500, dtype=np.float32)"
   ]
  },
  {
   "cell_type": "code",
   "execution_count": 8,
   "metadata": {},
   "outputs": [
    {
     "data": {
      "text/plain": [
       "8"
      ]
     },
     "execution_count": 8,
     "metadata": {},
     "output_type": "execute_result"
    }
   ],
   "source": [
    "8"
   ]
  },
  {
   "cell_type": "code",
   "execution_count": null,
   "metadata": {
    "collapsed": true
   },
   "outputs": [],
   "source": []
  }
 ],
 "metadata": {
  "kernelspec": {
   "display_name": "Python 3",
   "language": "python",
   "name": "python3"
  },
  "language_info": {
   "codemirror_mode": {
    "name": "ipython",
    "version": 3
   },
   "file_extension": ".py",
   "mimetype": "text/x-python",
   "name": "python",
   "nbconvert_exporter": "python",
   "pygments_lexer": "ipython3",
   "version": "3.6.1"
  }
 },
 "nbformat": 4,
 "nbformat_minor": 2
}
